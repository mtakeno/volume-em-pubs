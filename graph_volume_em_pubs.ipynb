{
 "cells": [
  {
   "cell_type": "code",
   "execution_count": 13,
   "metadata": {
    "scrolled": true
   },
   "outputs": [],
   "source": [
    "import pandas as pd\n",
    "from bokeh.io import output_notebook, show\n",
    "from bokeh.plotting import figure\n",
    "from bokeh.models import ColumnDataSource, LabelSet\n",
    "\n",
    "df = pd.read_csv('data/volume_em_data.csv',\n",
    "                 skiprows=[1],     # skip row with unit designator\n",
    "                 usecols={'calculated_volume', 'publication_year', 'reference_number'},\n",
    "                 dtype={\"number_sections\": int, \"publication_year\": int}\n",
    "                )\n",
    "# df.head()\n",
    "source = ColumnDataSource(df)\n",
    "\n",
    "p = figure(plot_width=800, plot_height=400, y_axis_type=\"log\", title=\"Large Volume EM Datasets\",\n",
    "            tools = \"pan,wheel_zoom,box_zoom,hover,reset\")\n",
    "\n",
    "p.scatter(x=\"publication_year\", y=\"calculated_volume\", source=source)\n",
    "\n",
    "p.xaxis.axis_label = 'Publication Year'\n",
    "p.yaxis.axis_label = 'Calculated Volume (um^3)'\n",
    "\n",
    "labels = LabelSet(x=\"publication_year\", y=\"calculated_volume\", text='reference_number',\n",
    "                 x_offset=3, y_offset=3, source=source, render_mode='canvas')\n",
    "# p.add_layout(labels)\n",
    "# p.add_tools(HoverTool())\n",
    "show(p)"
   ]
  },
  {
   "cell_type": "code",
   "execution_count": 14,
   "metadata": {},
   "outputs": [
    {
     "name": "stdout",
     "output_type": "stream",
     "text": [
      "<class 'pandas.core.frame.DataFrame'>\n",
      "RangeIndex: 32 entries, 0 to 31\n",
      "Data columns (total 3 columns):\n",
      "calculated_volume    32 non-null float64\n",
      "reference_number     32 non-null int64\n",
      "publication_year     32 non-null int32\n",
      "dtypes: float64(1), int32(1), int64(1)\n",
      "memory usage: 768.0 bytes\n"
     ]
    }
   ],
   "source": [
    "df.info()"
   ]
  },
  {
   "cell_type": "code",
   "execution_count": null,
   "metadata": {},
   "outputs": [],
   "source": []
  }
 ],
 "metadata": {
  "kernelspec": {
   "display_name": "Python 3",
   "language": "python",
   "name": "python3"
  },
  "language_info": {
   "codemirror_mode": {
    "name": "ipython",
    "version": 3
   },
   "file_extension": ".py",
   "mimetype": "text/x-python",
   "name": "python",
   "nbconvert_exporter": "python",
   "pygments_lexer": "ipython3",
   "version": "3.6.9"
  }
 },
 "nbformat": 4,
 "nbformat_minor": 2
}
